{
 "cells": [
  {
   "cell_type": "markdown",
   "metadata": {},
   "source": [
    "# Reranking for diversity improvement"
   ]
  },
  {
   "cell_type": "markdown",
   "metadata": {},
   "source": [
    "Prepare the dataset as introduced before:"
   ]
  },
  {
   "cell_type": "code",
   "execution_count": 1,
   "metadata": {},
   "outputs": [],
   "source": [
    "import rsdiv as rs\n",
    "\n",
    "loader = rs.MovieLens1MDownLoader()\n",
    "ratings = loader.read_ratings() \n",
    "ratings['rating'] = 1 # Only keeps the implicit data\n",
    "items = loader.read_items()"
   ]
  },
  {
   "cell_type": "markdown",
   "metadata": {},
   "source": [
    "Not only for categorical labels, but **rsdiv** also supports embedding for items. \n",
    "\n",
    "For example, but the pre-trained 300-dim embedding based on `wiki_en` by `fastText` can also be simply imported as:"
   ]
  },
  {
   "cell_type": "code",
   "execution_count": 2,
   "metadata": {},
   "outputs": [],
   "source": [
    "emb = rs.FastTextEmbedder()\n",
    "items['embedding'] = items['genres'].apply(emb.embedding_list)"
   ]
  },
  {
   "cell_type": "code",
   "execution_count": 3,
   "metadata": {},
   "outputs": [
    {
     "data": {
      "text/html": [
       "<div>\n",
       "<style scoped>\n",
       "    .dataframe tbody tr th:only-of-type {\n",
       "        vertical-align: middle;\n",
       "    }\n",
       "\n",
       "    .dataframe tbody tr th {\n",
       "        vertical-align: top;\n",
       "    }\n",
       "\n",
       "    .dataframe thead th {\n",
       "        text-align: right;\n",
       "    }\n",
       "</style>\n",
       "<table border=\"1\" class=\"dataframe\">\n",
       "  <thead>\n",
       "    <tr style=\"text-align: right;\">\n",
       "      <th></th>\n",
       "      <th>itemId</th>\n",
       "      <th>title</th>\n",
       "      <th>genres</th>\n",
       "      <th>release_date</th>\n",
       "      <th>embedding</th>\n",
       "    </tr>\n",
       "  </thead>\n",
       "  <tbody>\n",
       "    <tr>\n",
       "      <th>0</th>\n",
       "      <td>1</td>\n",
       "      <td>Toy Story</td>\n",
       "      <td>[Animation, Children's, Comedy]</td>\n",
       "      <td>1995</td>\n",
       "      <td>[-0.030589849, 0.05325674, 0.019193454, -0.050...</td>\n",
       "    </tr>\n",
       "    <tr>\n",
       "      <th>1</th>\n",
       "      <td>2</td>\n",
       "      <td>Jumanji</td>\n",
       "      <td>[Adventure, Children's, Fantasy]</td>\n",
       "      <td>1995</td>\n",
       "      <td>[-0.015678799, 0.042902038, -0.035489853, -0.0...</td>\n",
       "    </tr>\n",
       "    <tr>\n",
       "      <th>2</th>\n",
       "      <td>3</td>\n",
       "      <td>Grumpier Old Men</td>\n",
       "      <td>[Comedy, Romance]</td>\n",
       "      <td>1995</td>\n",
       "      <td>[-0.020618143, 0.06264187, 0.007298471, -0.043...</td>\n",
       "    </tr>\n",
       "    <tr>\n",
       "      <th>3</th>\n",
       "      <td>4</td>\n",
       "      <td>Waiting to Exhale</td>\n",
       "      <td>[Comedy, Drama]</td>\n",
       "      <td>1995</td>\n",
       "      <td>[-0.012459491, 0.066781715, 0.005510467, -0.04...</td>\n",
       "    </tr>\n",
       "    <tr>\n",
       "      <th>4</th>\n",
       "      <td>5</td>\n",
       "      <td>Father of the Bride Part II</td>\n",
       "      <td>[Comedy]</td>\n",
       "      <td>1995</td>\n",
       "      <td>[-0.050720982, 0.05634493, 0.026702933, -0.043...</td>\n",
       "    </tr>\n",
       "    <tr>\n",
       "      <th>...</th>\n",
       "      <td>...</td>\n",
       "      <td>...</td>\n",
       "      <td>...</td>\n",
       "      <td>...</td>\n",
       "      <td>...</td>\n",
       "    </tr>\n",
       "    <tr>\n",
       "      <th>3878</th>\n",
       "      <td>3948</td>\n",
       "      <td>Meet the Parents</td>\n",
       "      <td>[Comedy]</td>\n",
       "      <td>2000</td>\n",
       "      <td>[-0.050720982, 0.05634493, 0.026702933, -0.043...</td>\n",
       "    </tr>\n",
       "    <tr>\n",
       "      <th>3879</th>\n",
       "      <td>3949</td>\n",
       "      <td>Requiem for a Dream</td>\n",
       "      <td>[Drama]</td>\n",
       "      <td>2000</td>\n",
       "      <td>[0.025802, 0.077218495, -0.015681999, -0.05331...</td>\n",
       "    </tr>\n",
       "    <tr>\n",
       "      <th>3880</th>\n",
       "      <td>3950</td>\n",
       "      <td>Tigerland</td>\n",
       "      <td>[Drama]</td>\n",
       "      <td>2000</td>\n",
       "      <td>[0.025802, 0.077218495, -0.015681999, -0.05331...</td>\n",
       "    </tr>\n",
       "    <tr>\n",
       "      <th>3881</th>\n",
       "      <td>3951</td>\n",
       "      <td>Two Family House</td>\n",
       "      <td>[Drama]</td>\n",
       "      <td>2000</td>\n",
       "      <td>[0.025802, 0.077218495, -0.015681999, -0.05331...</td>\n",
       "    </tr>\n",
       "    <tr>\n",
       "      <th>3882</th>\n",
       "      <td>3952</td>\n",
       "      <td>Contender</td>\n",
       "      <td>[Drama, Thriller]</td>\n",
       "      <td>2000</td>\n",
       "      <td>[-0.0237755, 0.09850405, -0.021307915, -0.0314...</td>\n",
       "    </tr>\n",
       "  </tbody>\n",
       "</table>\n",
       "<p>3883 rows × 5 columns</p>\n",
       "</div>"
      ],
      "text/plain": [
       "      itemId                        title                            genres  \\\n",
       "0          1                    Toy Story   [Animation, Children's, Comedy]   \n",
       "1          2                      Jumanji  [Adventure, Children's, Fantasy]   \n",
       "2          3             Grumpier Old Men                 [Comedy, Romance]   \n",
       "3          4            Waiting to Exhale                   [Comedy, Drama]   \n",
       "4          5  Father of the Bride Part II                          [Comedy]   \n",
       "...      ...                          ...                               ...   \n",
       "3878    3948             Meet the Parents                          [Comedy]   \n",
       "3879    3949          Requiem for a Dream                           [Drama]   \n",
       "3880    3950                    Tigerland                           [Drama]   \n",
       "3881    3951             Two Family House                           [Drama]   \n",
       "3882    3952                    Contender                 [Drama, Thriller]   \n",
       "\n",
       "      release_date                                          embedding  \n",
       "0             1995  [-0.030589849, 0.05325674, 0.019193454, -0.050...  \n",
       "1             1995  [-0.015678799, 0.042902038, -0.035489853, -0.0...  \n",
       "2             1995  [-0.020618143, 0.06264187, 0.007298471, -0.043...  \n",
       "3             1995  [-0.012459491, 0.066781715, 0.005510467, -0.04...  \n",
       "4             1995  [-0.050720982, 0.05634493, 0.026702933, -0.043...  \n",
       "...            ...                                                ...  \n",
       "3878          2000  [-0.050720982, 0.05634493, 0.026702933, -0.043...  \n",
       "3879          2000  [0.025802, 0.077218495, -0.015681999, -0.05331...  \n",
       "3880          2000  [0.025802, 0.077218495, -0.015681999, -0.05331...  \n",
       "3881          2000  [0.025802, 0.077218495, -0.015681999, -0.05331...  \n",
       "3882          2000  [-0.0237755, 0.09850405, -0.021307915, -0.0314...  \n",
       "\n",
       "[3883 rows x 5 columns]"
      ]
     },
     "execution_count": 3,
     "metadata": {},
     "output_type": "execute_result"
    }
   ],
   "source": [
    "items"
   ]
  },
  {
   "cell_type": "markdown",
   "metadata": {},
   "source": [
    "Train a iALS recommender (based on `implicit`):"
   ]
  },
  {
   "cell_type": "code",
   "execution_count": 4,
   "metadata": {},
   "outputs": [
    {
     "data": {
      "application/vnd.jupyter.widget-view+json": {
       "model_id": "1a803d9260434fe79f61bb9954c8a52e",
       "version_major": 2,
       "version_minor": 0
      },
      "text/plain": [
       "  0%|          | 0/10 [00:00<?, ?it/s]"
      ]
     },
     "metadata": {},
     "output_type": "display_data"
    }
   ],
   "source": [
    "rc = rs.IALSRecommender(ratings, items, test_size=50000, random_split=True, iterations=10, factors=300).fit()"
   ]
  },
  {
   "cell_type": "markdown",
   "metadata": {},
   "source": [
    "Evaluate the recommender:"
   ]
  },
  {
   "cell_type": "code",
   "execution_count": 5,
   "metadata": {},
   "outputs": [
    {
     "data": {
      "application/vnd.jupyter.widget-view+json": {
       "model_id": "51bc843f89f844f6b8a3451c5a0bf1b4",
       "version_major": 2,
       "version_minor": 0
      },
      "text/plain": [
       "  0%|          | 0/5654 [00:00<?, ?it/s]"
      ]
     },
     "metadata": {},
     "output_type": "display_data"
    },
    {
     "data": {
      "text/plain": [
       "0.8211658057177699"
      ]
     },
     "execution_count": 5,
     "metadata": {},
     "output_type": "execute_result"
    }
   ],
   "source": [
    "rc.auc_score(top_k=300)"
   ]
  },
  {
   "cell_type": "markdown",
   "metadata": {},
   "source": [
    "Prepare the relevance scores and similarity scores for `user_id=1024`:"
   ]
  },
  {
   "cell_type": "code",
   "execution_count": 6,
   "metadata": {},
   "outputs": [],
   "source": [
    "org_select, category, relevance, similarity = rc.rerank_preprocess(\n",
    "    user_id=1024, \n",
    "    truncate_at=500, \n",
    "    category_col='genres',\n",
    "    embedding_col='embedding'\n",
    ")"
   ]
  },
  {
   "cell_type": "markdown",
   "metadata": {},
   "source": [
    "**rsdiv** supports various kinds of diversifying algorithms:"
   ]
  },
  {
   "cell_type": "markdown",
   "metadata": {},
   "source": [
    "- [Maximal Marginal Relevance](https://www.cs.cmu.edu/~jgc/publication/The_Use_MMR_Diversity_Based_LTMIR_1998.pdf), MMR diversify algorithm:"
   ]
  },
  {
   "cell_type": "markdown",
   "metadata": {},
   "source": [
    "$$MMR\\stackrel{\\text{def}}{=}\\mathop{\\text{argmax}}\\limits_{D_i\\in R\\backslash S}\\left[\\underbrace{\\lambda \\text{Sim}_1\\left(D_i,Q\\right)}_\\text{relevance}-\\left(1-\\lambda\\right)\\underbrace{\\max\\limits_{D_j\\in S}\\text{Sim}_2\\left(D_i,D_j\\right)}_\\text{diversity}\\right]$$"
   ]
  },
  {
   "cell_type": "markdown",
   "metadata": {},
   "source": [
    "Rerank `top 500` to compare the new `top 100` and the orginal one:"
   ]
  },
  {
   "cell_type": "code",
   "execution_count": 7,
   "metadata": {},
   "outputs": [],
   "source": [
    "mmr = rs.MaximalMarginalRelevance(lbd=0.1)\n",
    "rerank_scale = 100"
   ]
  },
  {
   "cell_type": "code",
   "execution_count": 8,
   "metadata": {},
   "outputs": [],
   "source": [
    "new_orders = mmr.rerank(relevance, k=rerank_scale, similarity_scores=similarity)\n",
    "new_select = [org_select[order] for order in new_orders]\n",
    "new_genres = [category[order] for order in new_select]\n",
    "org_genres = [category[order] for order in org_select]"
   ]
  },
  {
   "cell_type": "markdown",
   "metadata": {},
   "source": [
    "Check the new gini coefficients, a notable improvement of diversity could be obeserved:"
   ]
  },
  {
   "cell_type": "code",
   "execution_count": 9,
   "metadata": {},
   "outputs": [
    {
     "data": {
      "text/plain": [
       "(0.4971910112359551, 0.3769173213617658)"
      ]
     },
     "execution_count": 9,
     "metadata": {},
     "output_type": "execute_result"
    }
   ],
   "source": [
    "metrics = rs.DiversityMetrics()\n",
    "metrics.gini_coefficient(org_genres[:rerank_scale]), metrics.gini_coefficient(new_genres)"
   ]
  },
  {
   "cell_type": "code",
   "execution_count": 10,
   "metadata": {},
   "outputs": [
    {
     "data": {
      "text/plain": [
       "(8.04494382022472, 11.215488215488216)"
      ]
     },
     "execution_count": 10,
     "metadata": {},
     "output_type": "execute_result"
    }
   ],
   "source": [
    "metrics.effective_catalog_size(org_genres[:rerank_scale]), metrics.effective_catalog_size(new_genres)"
   ]
  },
  {
   "cell_type": "markdown",
   "metadata": {},
   "source": [
    "- Modified Gram-Schmidt, MGS diversify algorithm, also known as SSD([Sliding Spectrum Decomposition](https://arxiv.org/pdf/2107.05204.pdf)):"
   ]
  },
  {
   "cell_type": "markdown",
   "metadata": {},
   "source": [
    "The objective could be formed as:"
   ]
  },
  {
   "cell_type": "markdown",
   "metadata": {},
   "source": [
    "$$\\max\\limits_{j\\in\\mathcal{Y}\\backslash Y}\\left[r_j+\\lambda\\left||P_{\\perp q_j}\\right|| \\prod\\limits_{i\\in Y}^{}\\left||P_{\\perp q_i}\\right||\\right]$$"
   ]
  }
 ],
 "metadata": {
  "kernelspec": {
   "display_name": "Python 3.9.13 64-bit",
   "language": "python",
   "name": "python3"
  },
  "language_info": {
   "codemirror_mode": {
    "name": "ipython",
    "version": 3
   },
   "file_extension": ".py",
   "mimetype": "text/x-python",
   "name": "python",
   "nbconvert_exporter": "python",
   "pygments_lexer": "ipython3",
   "version": "3.9.13"
  },
  "orig_nbformat": 4,
  "vscode": {
   "interpreter": {
    "hash": "aee8b7b246df8f9039afb4144a1f6fd8d2ca17a180786b69acc140d282b71a49"
   }
  }
 },
 "nbformat": 4,
 "nbformat_minor": 2
}
