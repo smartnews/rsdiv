{
 "cells": [
  {
   "cell_type": "markdown",
   "metadata": {},
   "source": [
    "# Train and test a recommender"
   ]
  },
  {
   "cell_type": "markdown",
   "metadata": {},
   "source": [
    "Prepare the dataset as introduced before:"
   ]
  },
  {
   "cell_type": "code",
   "execution_count": 1,
   "metadata": {},
   "outputs": [],
   "source": [
    "import rsdiv as rs\n",
    "\n",
    "loader = rs.MovieLens1MDownLoader()\n",
    "ratings = loader.read_ratings()\n",
    "items = loader.read_items()"
   ]
  },
  {
   "cell_type": "markdown",
   "metadata": {},
   "source": [
    "**rsdiv** provides various implementations of core recommender algorithms. \n",
    "\n",
    "To start with, a wrapper for `LightFM` is also supported:"
   ]
  },
  {
   "cell_type": "code",
   "execution_count": 2,
   "metadata": {},
   "outputs": [],
   "source": [
    "rc = rs.FMRecommender(ratings, items).fit()"
   ]
  },
  {
   "cell_type": "markdown",
   "metadata": {},
   "source": [
    "30% of interactions are split for the test set by default, and the precision at the `top 5` can be calculated with:"
   ]
  },
  {
   "cell_type": "code",
   "execution_count": 3,
   "metadata": {},
   "outputs": [
    {
     "data": {
      "text/plain": [
       "0.15490067"
      ]
     },
     "execution_count": 3,
     "metadata": {},
     "output_type": "execute_result"
    }
   ],
   "source": [
    "rc.precision_at_top_k(5)"
   ]
  },
  {
   "cell_type": "markdown",
   "metadata": {},
   "source": [
    "the `top 100` unseen recommended items for an arbitrary user, say `userId: 1024`, can be simply given by:"
   ]
  },
  {
   "cell_type": "code",
   "execution_count": 4,
   "metadata": {},
   "outputs": [
    {
     "data": {
      "text/html": [
       "<div>\n",
       "<style scoped>\n",
       "    .dataframe tbody tr th:only-of-type {\n",
       "        vertical-align: middle;\n",
       "    }\n",
       "\n",
       "    .dataframe tbody tr th {\n",
       "        vertical-align: top;\n",
       "    }\n",
       "\n",
       "    .dataframe thead th {\n",
       "        text-align: right;\n",
       "    }\n",
       "</style>\n",
       "<table border=\"1\" class=\"dataframe\">\n",
       "  <thead>\n",
       "    <tr style=\"text-align: right;\">\n",
       "      <th></th>\n",
       "      <th>itemId</th>\n",
       "      <th>scores</th>\n",
       "      <th>title</th>\n",
       "      <th>genres</th>\n",
       "      <th>release_date</th>\n",
       "    </tr>\n",
       "  </thead>\n",
       "  <tbody>\n",
       "    <tr>\n",
       "      <th>0</th>\n",
       "      <td>2557</td>\n",
       "      <td>2.150918</td>\n",
       "      <td>I Stand Alone (Seul contre tous)</td>\n",
       "      <td>[Drama]</td>\n",
       "      <td>1998.0</td>\n",
       "    </tr>\n",
       "    <tr>\n",
       "      <th>1</th>\n",
       "      <td>3383</td>\n",
       "      <td>1.817652</td>\n",
       "      <td>Big Fella</td>\n",
       "      <td>[Drama, Musical]</td>\n",
       "      <td>1937.0</td>\n",
       "    </tr>\n",
       "    <tr>\n",
       "      <th>2</th>\n",
       "      <td>3509</td>\n",
       "      <td>1.765901</td>\n",
       "      <td>Black and White</td>\n",
       "      <td>[Drama]</td>\n",
       "      <td>1999.0</td>\n",
       "    </tr>\n",
       "    <tr>\n",
       "      <th>3</th>\n",
       "      <td>3377</td>\n",
       "      <td>1.750267</td>\n",
       "      <td>Hangmen Also Die</td>\n",
       "      <td>[Drama, War]</td>\n",
       "      <td>1943.0</td>\n",
       "    </tr>\n",
       "    <tr>\n",
       "      <th>4</th>\n",
       "      <td>3550</td>\n",
       "      <td>1.735399</td>\n",
       "      <td>Hunger</td>\n",
       "      <td>[Horror]</td>\n",
       "      <td>1983.0</td>\n",
       "    </tr>\n",
       "    <tr>\n",
       "      <th>...</th>\n",
       "      <td>...</td>\n",
       "      <td>...</td>\n",
       "      <td>...</td>\n",
       "      <td>...</td>\n",
       "      <td>...</td>\n",
       "    </tr>\n",
       "    <tr>\n",
       "      <th>95</th>\n",
       "      <td>2601</td>\n",
       "      <td>0.713556</td>\n",
       "      <td>Little Bit of Soul</td>\n",
       "      <td>[Comedy]</td>\n",
       "      <td>1998.0</td>\n",
       "    </tr>\n",
       "    <tr>\n",
       "      <th>96</th>\n",
       "      <td>3280</td>\n",
       "      <td>0.704618</td>\n",
       "      <td>Baby</td>\n",
       "      <td>[Horror]</td>\n",
       "      <td>1973.0</td>\n",
       "    </tr>\n",
       "    <tr>\n",
       "      <th>97</th>\n",
       "      <td>2558</td>\n",
       "      <td>0.696108</td>\n",
       "      <td>Forces of Nature</td>\n",
       "      <td>[Comedy, Romance]</td>\n",
       "      <td>1999.0</td>\n",
       "    </tr>\n",
       "    <tr>\n",
       "      <th>98</th>\n",
       "      <td>1125</td>\n",
       "      <td>0.691424</td>\n",
       "      <td>Return of the Pink Panther</td>\n",
       "      <td>[Comedy]</td>\n",
       "      <td>1974.0</td>\n",
       "    </tr>\n",
       "    <tr>\n",
       "      <th>99</th>\n",
       "      <td>1050</td>\n",
       "      <td>0.684174</td>\n",
       "      <td>Looking for Richard</td>\n",
       "      <td>[Documentary, Drama]</td>\n",
       "      <td>1996.0</td>\n",
       "    </tr>\n",
       "  </tbody>\n",
       "</table>\n",
       "<p>100 rows × 5 columns</p>\n",
       "</div>"
      ],
      "text/plain": [
       "    itemId    scores                             title                genres  \\\n",
       "0     2557  2.150918  I Stand Alone (Seul contre tous)               [Drama]   \n",
       "1     3383  1.817652                         Big Fella      [Drama, Musical]   \n",
       "2     3509  1.765901                   Black and White               [Drama]   \n",
       "3     3377  1.750267                  Hangmen Also Die          [Drama, War]   \n",
       "4     3550  1.735399                            Hunger              [Horror]   \n",
       "..     ...       ...                               ...                   ...   \n",
       "95    2601  0.713556                Little Bit of Soul              [Comedy]   \n",
       "96    3280  0.704618                              Baby              [Horror]   \n",
       "97    2558  0.696108                  Forces of Nature     [Comedy, Romance]   \n",
       "98    1125  0.691424        Return of the Pink Panther              [Comedy]   \n",
       "99    1050  0.684174               Looking for Richard  [Documentary, Drama]   \n",
       "\n",
       "    release_date  \n",
       "0         1998.0  \n",
       "1         1937.0  \n",
       "2         1999.0  \n",
       "3         1943.0  \n",
       "4         1983.0  \n",
       "..           ...  \n",
       "95        1998.0  \n",
       "96        1973.0  \n",
       "97        1999.0  \n",
       "98        1974.0  \n",
       "99        1996.0  \n",
       "\n",
       "[100 rows x 5 columns]"
      ]
     },
     "execution_count": 4,
     "metadata": {},
     "output_type": "execute_result"
    }
   ],
   "source": [
    "rc.predict_top_n_item(1024, 100)"
   ]
  }
 ],
 "metadata": {
  "kernelspec": {
   "display_name": "Python 3.9.13 64-bit",
   "language": "python",
   "name": "python3"
  },
  "language_info": {
   "codemirror_mode": {
    "name": "ipython",
    "version": 3
   },
   "file_extension": ".py",
   "mimetype": "text/x-python",
   "name": "python",
   "nbconvert_exporter": "python",
   "pygments_lexer": "ipython3",
   "version": "3.9.13"
  },
  "orig_nbformat": 4,
  "vscode": {
   "interpreter": {
    "hash": "aee8b7b246df8f9039afb4144a1f6fd8d2ca17a180786b69acc140d282b71a49"
   }
  }
 },
 "nbformat": 4,
 "nbformat_minor": 2
}
