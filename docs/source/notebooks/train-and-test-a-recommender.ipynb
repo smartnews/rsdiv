{
 "cells": [
  {
   "cell_type": "markdown",
   "metadata": {},
   "source": [
    "# Train and test a recommender"
   ]
  },
  {
   "cell_type": "markdown",
   "metadata": {},
   "source": [
    "Prepare the dataset as introduced before:"
   ]
  },
  {
   "cell_type": "code",
   "execution_count": 1,
   "metadata": {},
   "outputs": [],
   "source": [
    "import rsdiv as rs\n",
    "\n",
    "loader = rs.MovieLens1MDownLoader()\n",
    "ratings = loader.read_ratings()\n",
    "items = loader.read_items()"
   ]
  },
  {
   "cell_type": "markdown",
   "metadata": {},
   "source": [
    "**rsdiv** provides various implementations of core recommender algorithms. \n",
    "\n",
    "To start with, a wrapper for `LightFM` is also supported:"
   ]
  },
  {
   "cell_type": "code",
   "execution_count": 2,
   "metadata": {},
   "outputs": [],
   "source": [
    "rc = rs.FMRecommender(ratings, items).fit()"
   ]
  },
  {
   "cell_type": "markdown",
   "metadata": {},
   "source": [
    "30% of interactions are split for the test set by default, and the precision at the `top 5` can be calculated with:"
   ]
  },
  {
   "cell_type": "code",
   "execution_count": 3,
   "metadata": {},
   "outputs": [
    {
     "data": {
      "text/plain": [
       "0.15970199"
      ]
     },
     "execution_count": 3,
     "metadata": {},
     "output_type": "execute_result"
    }
   ],
   "source": [
    "rc.precision_at_top_k(5)"
   ]
  },
  {
   "cell_type": "markdown",
   "metadata": {},
   "source": [
    "the `top 100` unseen recommended items for an arbitrary user, say `userId: 1024`, can be simply given by:"
   ]
  },
  {
   "cell_type": "code",
   "execution_count": 4,
   "metadata": {},
   "outputs": [
    {
     "data": {
      "text/html": [
       "<div>\n",
       "<style scoped>\n",
       "    .dataframe tbody tr th:only-of-type {\n",
       "        vertical-align: middle;\n",
       "    }\n",
       "\n",
       "    .dataframe tbody tr th {\n",
       "        vertical-align: top;\n",
       "    }\n",
       "\n",
       "    .dataframe thead th {\n",
       "        text-align: right;\n",
       "    }\n",
       "</style>\n",
       "<table border=\"1\" class=\"dataframe\">\n",
       "  <thead>\n",
       "    <tr style=\"text-align: right;\">\n",
       "      <th></th>\n",
       "      <th>itemId</th>\n",
       "      <th>scores</th>\n",
       "      <th>title</th>\n",
       "      <th>genres</th>\n",
       "      <th>release_date</th>\n",
       "    </tr>\n",
       "  </thead>\n",
       "  <tbody>\n",
       "    <tr>\n",
       "      <th>0</th>\n",
       "      <td>2557</td>\n",
       "      <td>2.180831</td>\n",
       "      <td>I Stand Alone (Seul contre tous)</td>\n",
       "      <td>[Drama]</td>\n",
       "      <td>1998</td>\n",
       "    </tr>\n",
       "    <tr>\n",
       "      <th>1</th>\n",
       "      <td>2865</td>\n",
       "      <td>2.078251</td>\n",
       "      <td>Sugar Town</td>\n",
       "      <td>[Comedy]</td>\n",
       "      <td>1999</td>\n",
       "    </tr>\n",
       "    <tr>\n",
       "      <th>2</th>\n",
       "      <td>2514</td>\n",
       "      <td>2.065647</td>\n",
       "      <td>Pet Sematary II</td>\n",
       "      <td>[Horror]</td>\n",
       "      <td>1992</td>\n",
       "    </tr>\n",
       "    <tr>\n",
       "      <th>3</th>\n",
       "      <td>2634</td>\n",
       "      <td>1.862742</td>\n",
       "      <td>Mummy</td>\n",
       "      <td>[Horror]</td>\n",
       "      <td>1959</td>\n",
       "    </tr>\n",
       "    <tr>\n",
       "      <th>4</th>\n",
       "      <td>3542</td>\n",
       "      <td>1.828745</td>\n",
       "      <td>Coming Apart</td>\n",
       "      <td>[Drama]</td>\n",
       "      <td>1969</td>\n",
       "    </tr>\n",
       "    <tr>\n",
       "      <th>...</th>\n",
       "      <td>...</td>\n",
       "      <td>...</td>\n",
       "      <td>...</td>\n",
       "      <td>...</td>\n",
       "      <td>...</td>\n",
       "    </tr>\n",
       "    <tr>\n",
       "      <th>95</th>\n",
       "      <td>3582</td>\n",
       "      <td>0.799194</td>\n",
       "      <td>Jails</td>\n",
       "      <td>[Drama]</td>\n",
       "      <td>2000</td>\n",
       "    </tr>\n",
       "    <tr>\n",
       "      <th>96</th>\n",
       "      <td>3075</td>\n",
       "      <td>0.780045</td>\n",
       "      <td>Repulsion</td>\n",
       "      <td>[Thriller]</td>\n",
       "      <td>1965</td>\n",
       "    </tr>\n",
       "    <tr>\n",
       "      <th>97</th>\n",
       "      <td>2943</td>\n",
       "      <td>0.779874</td>\n",
       "      <td>Indochine</td>\n",
       "      <td>[Drama, Romance]</td>\n",
       "      <td>1992</td>\n",
       "    </tr>\n",
       "    <tr>\n",
       "      <th>98</th>\n",
       "      <td>2140</td>\n",
       "      <td>0.774891</td>\n",
       "      <td>Dark Crystal</td>\n",
       "      <td>[Children's, Fantasy, Sci-Fi]</td>\n",
       "      <td>1982</td>\n",
       "    </tr>\n",
       "    <tr>\n",
       "      <th>99</th>\n",
       "      <td>393</td>\n",
       "      <td>0.773604</td>\n",
       "      <td>Street Fighter</td>\n",
       "      <td>[Action]</td>\n",
       "      <td>1994</td>\n",
       "    </tr>\n",
       "  </tbody>\n",
       "</table>\n",
       "<p>100 rows × 5 columns</p>\n",
       "</div>"
      ],
      "text/plain": [
       "    itemId    scores                             title  \\\n",
       "0     2557  2.180831  I Stand Alone (Seul contre tous)   \n",
       "1     2865  2.078251                        Sugar Town   \n",
       "2     2514  2.065647                   Pet Sematary II   \n",
       "3     2634  1.862742                             Mummy   \n",
       "4     3542  1.828745                      Coming Apart   \n",
       "..     ...       ...                               ...   \n",
       "95    3582  0.799194                             Jails   \n",
       "96    3075  0.780045                         Repulsion   \n",
       "97    2943  0.779874                         Indochine   \n",
       "98    2140  0.774891                      Dark Crystal   \n",
       "99     393  0.773604                    Street Fighter   \n",
       "\n",
       "                           genres  release_date  \n",
       "0                         [Drama]          1998  \n",
       "1                        [Comedy]          1999  \n",
       "2                        [Horror]          1992  \n",
       "3                        [Horror]          1959  \n",
       "4                         [Drama]          1969  \n",
       "..                            ...           ...  \n",
       "95                        [Drama]          2000  \n",
       "96                     [Thriller]          1965  \n",
       "97               [Drama, Romance]          1992  \n",
       "98  [Children's, Fantasy, Sci-Fi]          1982  \n",
       "99                       [Action]          1994  \n",
       "\n",
       "[100 rows x 5 columns]"
      ]
     },
     "execution_count": 4,
     "metadata": {},
     "output_type": "execute_result"
    }
   ],
   "source": [
    "rc.predict_top_n_item(1024, 100)"
   ]
  }
 ],
 "metadata": {
  "kernelspec": {
   "display_name": "Python 3.9.13 64-bit",
   "language": "python",
   "name": "python3"
  },
  "language_info": {
   "codemirror_mode": {
    "name": "ipython",
    "version": 3
   },
   "file_extension": ".py",
   "mimetype": "text/x-python",
   "name": "python",
   "nbconvert_exporter": "python",
   "pygments_lexer": "ipython3",
   "version": "3.9.13"
  },
  "orig_nbformat": 4,
  "vscode": {
   "interpreter": {
    "hash": "aee8b7b246df8f9039afb4144a1f6fd8d2ca17a180786b69acc140d282b71a49"
   }
  }
 },
 "nbformat": 4,
 "nbformat_minor": 2
}
